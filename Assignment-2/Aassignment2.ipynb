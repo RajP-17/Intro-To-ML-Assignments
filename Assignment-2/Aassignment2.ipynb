{
 "cells": [
  {
   "cell_type": "code",
   "execution_count": 16,
   "metadata": {},
   "outputs": [
    {
     "name": "stdout",
     "output_type": "stream",
     "text": [
      "Defaulting to user installation because normal site-packages is not writeable\n",
      "Requirement already satisfied: scikit-learn in c:\\users\\rajpa\\appdata\\local\\packages\\pythonsoftwarefoundation.python.3.12_qbz5n2kfra8p0\\localcache\\local-packages\\python312\\site-packages (1.6.1)\n",
      "Requirement already satisfied: numpy>=1.19.5 in c:\\users\\rajpa\\appdata\\local\\packages\\pythonsoftwarefoundation.python.3.12_qbz5n2kfra8p0\\localcache\\local-packages\\python312\\site-packages (from scikit-learn) (2.2.2)\n",
      "Requirement already satisfied: scipy>=1.6.0 in c:\\users\\rajpa\\appdata\\local\\packages\\pythonsoftwarefoundation.python.3.12_qbz5n2kfra8p0\\localcache\\local-packages\\python312\\site-packages (from scikit-learn) (1.15.1)\n",
      "Requirement already satisfied: joblib>=1.2.0 in c:\\users\\rajpa\\appdata\\local\\packages\\pythonsoftwarefoundation.python.3.12_qbz5n2kfra8p0\\localcache\\local-packages\\python312\\site-packages (from scikit-learn) (1.4.2)\n",
      "Requirement already satisfied: threadpoolctl>=3.1.0 in c:\\users\\rajpa\\appdata\\local\\packages\\pythonsoftwarefoundation.python.3.12_qbz5n2kfra8p0\\localcache\\local-packages\\python312\\site-packages (from scikit-learn) (3.6.0)\n"
     ]
    }
   ],
   "source": [
    "!pip install scikit-learn"
   ]
  },
  {
   "cell_type": "code",
   "execution_count": null,
   "metadata": {},
   "outputs": [
    {
     "name": "stdout",
     "output_type": "stream",
     "text": [
      "Problem 1.a - Final Theta:\n",
      " [[4744533.7490745 ]\n",
      " [ 669669.62933034]\n",
      " [ 111527.3010222 ]\n",
      " [ 595247.30781545]\n",
      " [ 429101.96588991]\n",
      " [ 290656.73479685]]\n",
      "Problem 1.a - Final Training Loss: 1350008211326.5803\n",
      "Problem 1.a - Final Validation Loss: 2292721545725.367\n"
     ]
    },
    {
     "data": {
      "image/png": "[encoded data removed]",
      "text/plain": [
       "<Figure size 640x480 with 1 Axes>"
      ]
     },
     "metadata": {},
     "output_type": "display_data"
    }
   ],
   "source": [
    "\n",
    "import numpy as np\n",
    "import pandas as pd\n",
    "import matplotlib.pyplot as plt\n",
    "from sklearn.model_selection import train_test_split\n",
    "\n",
    "# Helper Functions\n",
    "def add_bias(X):\n",
    "    return np.concatenate([np.ones((X.shape[0], 1)), X], axis=1)\n",
    "\n",
    "def mse_loss(X, y, theta):\n",
    "    predictions = X.dot(theta)\n",
    "    return np.mean((predictions - y) ** 2)\n",
    "\n",
    "def gradient_descent(X_train, y_train, X_val, y_val, learning_rate, iterations):\n",
    "    m, n = X_train.shape\n",
    "    theta = np.zeros((n, 1))\n",
    "    train_losses = []\n",
    "    val_losses = []\n",
    "    for i in range(iterations):\n",
    "        predictions = X_train.dot(theta)\n",
    "        error = predictions - y_train\n",
    "        gradient = (2/m) * X_train.T.dot(error)\n",
    "        theta = theta - learning_rate * gradient\n",
    "        train_losses.append(mse_loss(X_train, y_train, theta))\n",
    "        val_losses.append(mse_loss(X_val, y_val, theta))\n",
    "    return theta, train_losses, val_losses\n",
    "\n",
    "def standardize(X):\n",
    "    \"\"\"Standardize features to have zero mean and unit variance.\"\"\"\n",
    "    mean_vals = X.mean(axis=0)\n",
    "    std_vals = X.std(axis=0)\n",
    "    return (X - mean_vals) / std_vals\n",
    "\n",
    "# Data Loading and Preprocessing\n",
    "data = pd.read_csv('Housing.csv')\n",
    "\n",
    "# For Problem 1.a, we use these features:\n",
    "features = ['area', 'bedrooms', 'bathrooms', 'stories', 'parking']\n",
    "target = 'price'\n",
    "\n",
    "X = data[features].values\n",
    "y = data[target].values.reshape(-1, 1)\n",
    "\n",
    "# Standardize the features to stabilize gradient descent.\n",
    "X_std = standardize(X)\n",
    "\n",
    "# Split into training (80%) and validation (20%) sets.\n",
    "X_train, X_val, y_train, y_val = train_test_split(X_std, y, test_size=0.2, random_state=42)\n",
    "X_train_bias = add_bias(X_train)\n",
    "X_val_bias   = add_bias(X_val)\n",
    "\n",
    "# Hyperparameters\n",
    "learning_rate = 0.05  # Learning rate for gradient descent\n",
    "iterations = 1000\n",
    "\n",
    "# Run gradient descent\n",
    "theta, train_losses, val_losses = gradient_descent(X_train_bias, y_train, X_val_bias, y_val,\n",
    "                                                    learning_rate, iterations)\n",
    "\n",
    "print(\"Problem 1.a - Final Theta:\\n\", theta)\n",
    "print(\"Problem 1.a - Final Training Loss:\", train_losses[-1])\n",
    "print(\"Problem 1.a - Final Validation Loss:\", val_losses[-1])\n",
    "\n",
    "plt.plot(train_losses, label='Train Loss')\n",
    "plt.plot(val_losses, label='Val Loss')\n",
    "plt.xlabel(\"Iteration\")\n",
    "plt.ylabel(\"MSE Loss\")\n",
    "plt.title(\"Problem 1.a: Standardized Features\")\n",
    "plt.legend()\n",
    "plt.show()\n"
   ]
  },
  {
   "cell_type": "code",
   "execution_count": null,
   "metadata": {},
   "outputs": [],
   "source": []
  },
  {
   "cell_type": "code",
   "execution_count": null,
   "metadata": {},
   "outputs": [],
   "source": []
  }
 ],
 "metadata": {
  "kernelspec": {
   "display_name": "Python 3",
   "language": "python",
   "name": "python3"
  },
  "language_info": {
   "codemirror_mode": {
    "name": "ipython",
    "version": 3
   },
   "file_extension": ".py",
   "mimetype": "text/x-python",
   "name": "python",
   "nbconvert_exporter": "python",
   "pygments_lexer": "ipython3",
   "version": "3.12.9"
  }
 },
 "nbformat": 4,
 "nbformat_minor": 2
}
